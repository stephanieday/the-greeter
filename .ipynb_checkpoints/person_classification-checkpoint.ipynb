{
 "cells": [
  {
   "cell_type": "code",
   "execution_count": 1,
   "metadata": {},
   "outputs": [],
   "source": [
    "%matplotlib inline\n",
    "import pickle\n",
    "from os import listdir, path\n",
    "import numpy as np\n",
    "from sklearn import svm, metrics\n",
    "\n",
    "from PIL import Image"
   ]
  },
  {
   "cell_type": "code",
   "execution_count": 9,
   "metadata": {},
   "outputs": [],
   "source": [
    "def load_pose_data():\n",
    "    '''load pose data from file'''\n",
    "    images = []\n",
    "    targets = []\n",
    "    classes = ['person', 'noperson']\n",
    "    print(classes)\n",
    "    \n",
    "    for drctry in listdir('./images'):\n",
    "        for img in listdir('./images/' + drctry):\n",
    "            image = Image.open('./images/'+ drctry + '/' + img)\n",
    "            images.append(image)\n",
    "            targets.append(drctry)\n",
    "            \n",
    "#     target = [index] * len(data)\n",
    "    return images, targets\n"
   ]
  },
  {
   "cell_type": "code",
   "execution_count": 10,
   "metadata": {},
   "outputs": [
    {
     "name": "stdout",
     "output_type": "stream",
     "text": [
      "['person', 'noperson']\n",
      "total number of data 68\n"
     ]
    }
   ],
   "source": [
    "# load all the data\n",
    "all_data = []\n",
    "all_target = []\n",
    "\n",
    "all_data, all_target = load_pose_data()\n",
    "\n",
    "print('total number of data', len(all_data))"
   ]
  },
  {
   "cell_type": "code",
   "execution_count": 11,
   "metadata": {},
   "outputs": [
    {
     "name": "stdout",
     "output_type": "stream",
     "text": [
      "[<PIL.PngImagePlugin.PngImageFile image mode=RGB size=640x480 at 0x1262B63E0>, <PIL.PngImagePlugin.PngImageFile image mode=RGB size=640x480 at 0x1262B7A00>, <PIL.PngImagePlugin.PngImageFile image mode=RGB size=640x480 at 0x1262B73D0>, <PIL.PngImagePlugin.PngImageFile image mode=RGB size=640x480 at 0x1262B6AD0>, <PIL.PngImagePlugin.PngImageFile image mode=RGB size=640x480 at 0x1262B6D40>, <PIL.PngImagePlugin.PngImageFile image mode=RGB size=640x480 at 0x1262B75B0>, <PIL.PngImagePlugin.PngImageFile image mode=RGB size=640x480 at 0x1262B5CC0>, <PIL.PngImagePlugin.PngImageFile image mode=RGB size=640x480 at 0x1262B6380>, <PIL.PngImagePlugin.PngImageFile image mode=RGB size=640x480 at 0x1262B5DB0>, <PIL.PngImagePlugin.PngImageFile image mode=RGB size=640x480 at 0x10823C700>, <PIL.PngImagePlugin.PngImageFile image mode=RGB size=640x480 at 0x1262B7B20>, <PIL.PngImagePlugin.PngImageFile image mode=RGB size=640x480 at 0x1262B64D0>, <PIL.PngImagePlugin.PngImageFile image mode=RGB size=640x480 at 0x1262B6560>, <PIL.PngImagePlugin.PngImageFile image mode=RGB size=640x480 at 0x1262B5C60>, <PIL.PngImagePlugin.PngImageFile image mode=RGB size=640x480 at 0x1262B7340>, <PIL.PngImagePlugin.PngImageFile image mode=RGB size=640x480 at 0x1262B7190>, <PIL.PngImagePlugin.PngImageFile image mode=RGB size=640x480 at 0x125834520>, <PIL.PngImagePlugin.PngImageFile image mode=RGB size=640x480 at 0x1262B5C00>, <PIL.PngImagePlugin.PngImageFile image mode=RGB size=640x480 at 0x12555EF20>, <PIL.PngImagePlugin.PngImageFile image mode=RGB size=640x480 at 0x126403C70>, <PIL.PngImagePlugin.PngImageFile image mode=RGB size=640x480 at 0x1262B5B40>, <PIL.PngImagePlugin.PngImageFile image mode=RGB size=640x480 at 0x1262B66E0>, <PIL.PngImagePlugin.PngImageFile image mode=RGB size=640x480 at 0x10823D330>, <PIL.PngImagePlugin.PngImageFile image mode=RGB size=640x480 at 0x1259862C0>, <PIL.PngImagePlugin.PngImageFile image mode=RGB size=640x480 at 0x1262B7FD0>, <PIL.PngImagePlugin.PngImageFile image mode=RGB size=640x480 at 0x1262B6DA0>, <PIL.PngImagePlugin.PngImageFile image mode=RGB size=640x480 at 0x1262B7EE0>, <PIL.PngImagePlugin.PngImageFile image mode=RGB size=640x480 at 0x1262B7730>, <PIL.PngImagePlugin.PngImageFile image mode=RGB size=640x480 at 0x1262B70D0>, <PIL.PngImagePlugin.PngImageFile image mode=RGB size=640x480 at 0x1258C07C0>, <PIL.PngImagePlugin.PngImageFile image mode=RGB size=640x480 at 0x1262B6B00>, <PIL.PngImagePlugin.PngImageFile image mode=RGB size=640x480 at 0x1262B7BB0>, <PIL.PngImagePlugin.PngImageFile image mode=RGB size=640x480 at 0x126403BB0>, <PIL.PngImagePlugin.PngImageFile image mode=RGB size=640x480 at 0x1262B7010>, <PIL.PngImagePlugin.PngImageFile image mode=RGB size=640x480 at 0x1262B79D0>, <PIL.PngImagePlugin.PngImageFile image mode=RGB size=640x480 at 0x1262B6230>, <PIL.PngImagePlugin.PngImageFile image mode=RGB size=640x480 at 0x125546170>, <PIL.PngImagePlugin.PngImageFile image mode=RGB size=640x480 at 0x1262B6E30>, <PIL.PngImagePlugin.PngImageFile image mode=RGB size=640x480 at 0x1262B7040>, <PIL.PngImagePlugin.PngImageFile image mode=RGB size=640x480 at 0x1262B5B10>, <PIL.PngImagePlugin.PngImageFile image mode=RGB size=640x480 at 0x1262B7F70>, <PIL.PngImagePlugin.PngImageFile image mode=RGB size=640x480 at 0x1262B74F0>, <PIL.PngImagePlugin.PngImageFile image mode=RGB size=640x480 at 0x1262B72B0>, <PIL.PngImagePlugin.PngImageFile image mode=RGB size=640x480 at 0x1262B7550>, <PIL.PngImagePlugin.PngImageFile image mode=RGB size=640x480 at 0x1262B7070>, <PIL.PngImagePlugin.PngImageFile image mode=RGB size=640x480 at 0x126403B50>, <PIL.PngImagePlugin.PngImageFile image mode=RGB size=640x480 at 0x1262B6A70>] ['noperson', 'person', 'person', 'noperson', 'person', 'person', 'noperson', 'noperson', 'noperson', 'person', 'person', 'person', 'noperson', 'noperson', 'person', 'person', 'noperson', 'noperson', 'noperson', 'noperson', 'person', 'person', 'person', 'noperson', 'person', 'noperson', 'person', 'noperson', 'person', 'person', 'person', 'noperson', 'noperson', 'noperson', 'person', 'noperson', 'noperson', 'person', 'person', 'noperson', 'person', 'person', 'person', 'person', 'person', 'noperson', 'person']\n",
      "[<PIL.PngImagePlugin.PngImageFile image mode=RGB size=640x480 at 0x1262B7E80>, <PIL.PngImagePlugin.PngImageFile image mode=RGB size=640x480 at 0x1262B7760>, <PIL.PngImagePlugin.PngImageFile image mode=RGB size=640x480 at 0x1262B6FB0>, <PIL.PngImagePlugin.PngImageFile image mode=RGB size=640x480 at 0x1262B7DC0>, <PIL.PngImagePlugin.PngImageFile image mode=RGB size=640x480 at 0x1262B6B30>, <PIL.PngImagePlugin.PngImageFile image mode=RGB size=640x480 at 0x1262B71C0>, <PIL.PngImagePlugin.PngImageFile image mode=RGB size=640x480 at 0x10823F7F0>, <PIL.PngImagePlugin.PngImageFile image mode=RGB size=640x480 at 0x1262B7430>, <PIL.PngImagePlugin.PngImageFile image mode=RGB size=640x480 at 0x1262B6530>, <PIL.PngImagePlugin.PngImageFile image mode=RGB size=640x480 at 0x1262B7E50>, <PIL.PngImagePlugin.PngImageFile image mode=RGB size=640x480 at 0x1262B5A50>, <PIL.PngImagePlugin.PngImageFile image mode=RGB size=640x480 at 0x126403B80>, <PIL.PngImagePlugin.PngImageFile image mode=RGB size=640x480 at 0x1262B63B0>, <PIL.PngImagePlugin.PngImageFile image mode=RGB size=640x480 at 0x126403760>, <PIL.PngImagePlugin.PngImageFile image mode=RGB size=640x480 at 0x1262B6BC0>, <PIL.PngImagePlugin.PngImageFile image mode=RGB size=640x480 at 0x1262B6590>, <PIL.PngImagePlugin.PngImageFile image mode=RGB size=640x480 at 0x1262B7D60>, <PIL.PngImagePlugin.PngImageFile image mode=RGB size=640x480 at 0x1262B7B80>, <PIL.PngImagePlugin.PngImageFile image mode=RGB size=640x480 at 0x1262B6620>, <PIL.PngImagePlugin.PngImageFile image mode=RGB size=640x480 at 0x1262B6710>, <PIL.PngImagePlugin.PngImageFile image mode=RGB size=640x480 at 0x1262B6830>] ['person', 'person', 'person', 'person', 'noperson', 'person', 'person', 'noperson', 'person', 'person', 'noperson', 'noperson', 'person', 'noperson', 'noperson', 'person', 'person', 'person', 'noperson', 'noperson', 'noperson']\n"
     ]
    }
   ],
   "source": [
    "# shuffule data\n",
    "permutation = np.random.permutation(len(all_data))\n",
    "n_training_data = int(len(all_data) * 0.7)\n",
    "training_data = permutation[:n_training_data]\n",
    "testing_data = permutation[n_training_data:]\n",
    "\n",
    "# split into train and test data\n",
    "train_data = [all_data[index] for index in training_data]\n",
    "train_target = [all_target[index] for index in training_data]\n",
    "test_data = [all_data[index] for index in testing_data]\n",
    "test_target = [all_target[index] for index in testing_data]\n",
    "print(len(train_data), train_target)\n",
    "print(len(test_data), test_target)"
   ]
  },
  {
   "cell_type": "code",
   "execution_count": 12,
   "metadata": {},
   "outputs": [],
   "source": [
    "clf = svm.SVC(gamma=0.001, C=100.)"
   ]
  },
  {
   "cell_type": "code",
   "execution_count": null,
   "metadata": {},
   "outputs": [],
   "source": [
    "# with training data\n",
    "clf.fit(train_data, train_target) "
   ]
  },
  {
   "cell_type": "code",
   "execution_count": null,
   "metadata": {},
   "outputs": [],
   "source": [
    "clf.predict(test_data[-6:]), test_target[-6:]"
   ]
  },
  {
   "cell_type": "code",
   "execution_count": null,
   "metadata": {},
   "outputs": [],
   "source": [
    "def evaluate(expected, predicted):\n",
    "    print(\"Classification report:\\n%s\\n\" % metrics.classification_report(expected, predicted))\n",
    "\n",
    "    print(\"Confusion matrix:\\n%s\" % metrics.confusion_matrix(expected, predicted))"
   ]
  },
  {
   "cell_type": "code",
   "execution_count": null,
   "metadata": {},
   "outputs": [],
   "source": [
    "expected = test_target\n",
    "predicted = clf.predict(test_data)\n",
    "\n",
    "evaluate(expected, predicted)"
   ]
  }
 ],
 "metadata": {
  "kernelspec": {
   "display_name": "Python 3 (ipykernel)",
   "language": "python",
   "name": "python3"
  },
  "language_info": {
   "codemirror_mode": {
    "name": "ipython",
    "version": 3
   },
   "file_extension": ".py",
   "mimetype": "text/x-python",
   "name": "python",
   "nbconvert_exporter": "python",
   "pygments_lexer": "ipython3",
   "version": "3.10.0"
  }
 },
 "nbformat": 4,
 "nbformat_minor": 2
}
